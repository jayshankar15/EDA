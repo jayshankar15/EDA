{
 "cells": [
  {
   "cell_type": "code",
   "execution_count": 2,
   "metadata": {},
   "outputs": [],
   "source": [
    "# importing python basic package \n",
    "\n",
    "import pandas as pd\n",
    "import numpy as np\n",
    "import seaborn as sns\n",
    "import matplotlib.pyplot as plt\n",
    "import warnings\n",
    "warnings.filterwarnings('ignore')\n",
    "%matplotlib inline"
   ]
  },
  {
   "cell_type": "code",
   "execution_count": 4,
   "metadata": {},
   "outputs": [],
   "source": [
    "mydata = pd.read_excel('D:\\EDA\\Employee data\\Employee_Data.xls')"
   ]
  },
  {
   "cell_type": "code",
   "execution_count": 5,
   "metadata": {},
   "outputs": [],
   "source": [
    "data = mydata.copy()"
   ]
  },
  {
   "cell_type": "code",
   "execution_count": 6,
   "metadata": {},
   "outputs": [
    {
     "data": {
      "text/html": [
       "<div>\n",
       "<style scoped>\n",
       "    .dataframe tbody tr th:only-of-type {\n",
       "        vertical-align: middle;\n",
       "    }\n",
       "\n",
       "    .dataframe tbody tr th {\n",
       "        vertical-align: top;\n",
       "    }\n",
       "\n",
       "    .dataframe thead th {\n",
       "        text-align: right;\n",
       "    }\n",
       "</style>\n",
       "<table border=\"1\" class=\"dataframe\">\n",
       "  <thead>\n",
       "    <tr style=\"text-align: right;\">\n",
       "      <th></th>\n",
       "      <th>Employee Id</th>\n",
       "      <th>First Name</th>\n",
       "      <th>Last Name</th>\n",
       "      <th>Department</th>\n",
       "      <th>Age</th>\n",
       "      <th>Experience</th>\n",
       "      <th>Salary</th>\n",
       "    </tr>\n",
       "  </thead>\n",
       "  <tbody>\n",
       "    <tr>\n",
       "      <th>0</th>\n",
       "      <td>1</td>\n",
       "      <td>Joy</td>\n",
       "      <td>Bass</td>\n",
       "      <td>Sales and Marketing</td>\n",
       "      <td>28.0</td>\n",
       "      <td>3.0</td>\n",
       "      <td>32889</td>\n",
       "    </tr>\n",
       "    <tr>\n",
       "      <th>1</th>\n",
       "      <td>2</td>\n",
       "      <td>Sheila</td>\n",
       "      <td>Garza</td>\n",
       "      <td>Sales and Marketing</td>\n",
       "      <td>22.0</td>\n",
       "      <td>1.0</td>\n",
       "      <td>15944</td>\n",
       "    </tr>\n",
       "    <tr>\n",
       "      <th>2</th>\n",
       "      <td>3</td>\n",
       "      <td>John</td>\n",
       "      <td>Bryant</td>\n",
       "      <td>Customer Relations</td>\n",
       "      <td>22.0</td>\n",
       "      <td>1.0</td>\n",
       "      <td>40343</td>\n",
       "    </tr>\n",
       "    <tr>\n",
       "      <th>3</th>\n",
       "      <td>4</td>\n",
       "      <td>Christian</td>\n",
       "      <td>Farley</td>\n",
       "      <td>Customer Relations</td>\n",
       "      <td>22.0</td>\n",
       "      <td>1.0</td>\n",
       "      <td>19018</td>\n",
       "    </tr>\n",
       "    <tr>\n",
       "      <th>4</th>\n",
       "      <td>5</td>\n",
       "      <td>Colorado</td>\n",
       "      <td>Bowen</td>\n",
       "      <td>Accounting</td>\n",
       "      <td>27.0</td>\n",
       "      <td>0.0</td>\n",
       "      <td>24795</td>\n",
       "    </tr>\n",
       "  </tbody>\n",
       "</table>\n",
       "</div>"
      ],
      "text/plain": [
       "   Employee Id First Name Last Name           Department   Age  Experience  \\\n",
       "0            1        Joy      Bass  Sales and Marketing  28.0         3.0   \n",
       "1            2     Sheila     Garza  Sales and Marketing  22.0         1.0   \n",
       "2            3       John    Bryant   Customer Relations  22.0         1.0   \n",
       "3            4  Christian    Farley   Customer Relations  22.0         1.0   \n",
       "4            5   Colorado     Bowen           Accounting  27.0         0.0   \n",
       "\n",
       "   Salary  \n",
       "0   32889  \n",
       "1   15944  \n",
       "2   40343  \n",
       "3   19018  \n",
       "4   24795  "
      ]
     },
     "execution_count": 6,
     "metadata": {},
     "output_type": "execute_result"
    }
   ],
   "source": [
    "mydata.head()"
   ]
  },
  {
   "cell_type": "code",
   "execution_count": 7,
   "metadata": {},
   "outputs": [
    {
     "data": {
      "text/html": [
       "<div>\n",
       "<style scoped>\n",
       "    .dataframe tbody tr th:only-of-type {\n",
       "        vertical-align: middle;\n",
       "    }\n",
       "\n",
       "    .dataframe tbody tr th {\n",
       "        vertical-align: top;\n",
       "    }\n",
       "\n",
       "    .dataframe thead th {\n",
       "        text-align: right;\n",
       "    }\n",
       "</style>\n",
       "<table border=\"1\" class=\"dataframe\">\n",
       "  <thead>\n",
       "    <tr style=\"text-align: right;\">\n",
       "      <th></th>\n",
       "      <th>Employee Id</th>\n",
       "      <th>First Name</th>\n",
       "      <th>Last Name</th>\n",
       "      <th>Department</th>\n",
       "      <th>Age</th>\n",
       "      <th>Experience</th>\n",
       "      <th>Salary</th>\n",
       "    </tr>\n",
       "  </thead>\n",
       "  <tbody>\n",
       "    <tr>\n",
       "      <th>0</th>\n",
       "      <td>1</td>\n",
       "      <td>Joy</td>\n",
       "      <td>Bass</td>\n",
       "      <td>Sales and Marketing</td>\n",
       "      <td>28.0</td>\n",
       "      <td>3.0</td>\n",
       "      <td>32889</td>\n",
       "    </tr>\n",
       "    <tr>\n",
       "      <th>1</th>\n",
       "      <td>2</td>\n",
       "      <td>Sheila</td>\n",
       "      <td>Garza</td>\n",
       "      <td>Sales and Marketing</td>\n",
       "      <td>22.0</td>\n",
       "      <td>1.0</td>\n",
       "      <td>15944</td>\n",
       "    </tr>\n",
       "    <tr>\n",
       "      <th>2</th>\n",
       "      <td>3</td>\n",
       "      <td>John</td>\n",
       "      <td>Bryant</td>\n",
       "      <td>Customer Relations</td>\n",
       "      <td>22.0</td>\n",
       "      <td>1.0</td>\n",
       "      <td>40343</td>\n",
       "    </tr>\n",
       "    <tr>\n",
       "      <th>3</th>\n",
       "      <td>4</td>\n",
       "      <td>Christian</td>\n",
       "      <td>Farley</td>\n",
       "      <td>Customer Relations</td>\n",
       "      <td>22.0</td>\n",
       "      <td>1.0</td>\n",
       "      <td>19018</td>\n",
       "    </tr>\n",
       "    <tr>\n",
       "      <th>4</th>\n",
       "      <td>5</td>\n",
       "      <td>Colorado</td>\n",
       "      <td>Bowen</td>\n",
       "      <td>Accounting</td>\n",
       "      <td>27.0</td>\n",
       "      <td>0.0</td>\n",
       "      <td>24795</td>\n",
       "    </tr>\n",
       "  </tbody>\n",
       "</table>\n",
       "</div>"
      ],
      "text/plain": [
       "   Employee Id First Name Last Name           Department   Age  Experience  \\\n",
       "0            1        Joy      Bass  Sales and Marketing  28.0         3.0   \n",
       "1            2     Sheila     Garza  Sales and Marketing  22.0         1.0   \n",
       "2            3       John    Bryant   Customer Relations  22.0         1.0   \n",
       "3            4  Christian    Farley   Customer Relations  22.0         1.0   \n",
       "4            5   Colorado     Bowen           Accounting  27.0         0.0   \n",
       "\n",
       "   Salary  \n",
       "0   32889  \n",
       "1   15944  \n",
       "2   40343  \n",
       "3   19018  \n",
       "4   24795  "
      ]
     },
     "execution_count": 7,
     "metadata": {},
     "output_type": "execute_result"
    }
   ],
   "source": [
    "data.head()"
   ]
  },
  {
   "cell_type": "code",
   "execution_count": 8,
   "metadata": {},
   "outputs": [
    {
     "name": "stdout",
     "output_type": "stream",
     "text": [
      "<class 'pandas.core.frame.DataFrame'>\n",
      "RangeIndex: 100 entries, 0 to 99\n",
      "Data columns (total 7 columns):\n",
      " #   Column       Non-Null Count  Dtype  \n",
      "---  ------       --------------  -----  \n",
      " 0   Employee Id  100 non-null    int64  \n",
      " 1   First Name   100 non-null    object \n",
      " 2   Last Name    100 non-null    object \n",
      " 3   Department   81 non-null     object \n",
      " 4   Age          82 non-null     float64\n",
      " 5   Experience   90 non-null     float64\n",
      " 6   Salary       100 non-null    int64  \n",
      "dtypes: float64(2), int64(2), object(3)\n",
      "memory usage: 5.6+ KB\n"
     ]
    }
   ],
   "source": [
    "data.info()"
   ]
  },
  {
   "cell_type": "code",
   "execution_count": 9,
   "metadata": {},
   "outputs": [
    {
     "data": {
      "text/html": [
       "<div>\n",
       "<style scoped>\n",
       "    .dataframe tbody tr th:only-of-type {\n",
       "        vertical-align: middle;\n",
       "    }\n",
       "\n",
       "    .dataframe tbody tr th {\n",
       "        vertical-align: top;\n",
       "    }\n",
       "\n",
       "    .dataframe thead th {\n",
       "        text-align: right;\n",
       "    }\n",
       "</style>\n",
       "<table border=\"1\" class=\"dataframe\">\n",
       "  <thead>\n",
       "    <tr style=\"text-align: right;\">\n",
       "      <th></th>\n",
       "      <th>Employee Id</th>\n",
       "      <th>Age</th>\n",
       "      <th>Experience</th>\n",
       "      <th>Salary</th>\n",
       "    </tr>\n",
       "  </thead>\n",
       "  <tbody>\n",
       "    <tr>\n",
       "      <th>count</th>\n",
       "      <td>100.000000</td>\n",
       "      <td>82.000000</td>\n",
       "      <td>90.000000</td>\n",
       "      <td>100.000000</td>\n",
       "    </tr>\n",
       "    <tr>\n",
       "      <th>mean</th>\n",
       "      <td>50.500000</td>\n",
       "      <td>37.975610</td>\n",
       "      <td>14.766667</td>\n",
       "      <td>65066.760000</td>\n",
       "    </tr>\n",
       "    <tr>\n",
       "      <th>std</th>\n",
       "      <td>29.011492</td>\n",
       "      <td>9.515388</td>\n",
       "      <td>6.889252</td>\n",
       "      <td>26189.874212</td>\n",
       "    </tr>\n",
       "    <tr>\n",
       "      <th>min</th>\n",
       "      <td>1.000000</td>\n",
       "      <td>22.000000</td>\n",
       "      <td>0.000000</td>\n",
       "      <td>11830.000000</td>\n",
       "    </tr>\n",
       "    <tr>\n",
       "      <th>25%</th>\n",
       "      <td>25.750000</td>\n",
       "      <td>27.250000</td>\n",
       "      <td>9.250000</td>\n",
       "      <td>48526.000000</td>\n",
       "    </tr>\n",
       "    <tr>\n",
       "      <th>50%</th>\n",
       "      <td>50.500000</td>\n",
       "      <td>42.000000</td>\n",
       "      <td>16.500000</td>\n",
       "      <td>73500.500000</td>\n",
       "    </tr>\n",
       "    <tr>\n",
       "      <th>75%</th>\n",
       "      <td>75.250000</td>\n",
       "      <td>45.750000</td>\n",
       "      <td>21.000000</td>\n",
       "      <td>86621.250000</td>\n",
       "    </tr>\n",
       "    <tr>\n",
       "      <th>max</th>\n",
       "      <td>100.000000</td>\n",
       "      <td>50.000000</td>\n",
       "      <td>25.000000</td>\n",
       "      <td>98180.000000</td>\n",
       "    </tr>\n",
       "  </tbody>\n",
       "</table>\n",
       "</div>"
      ],
      "text/plain": [
       "       Employee Id        Age  Experience        Salary\n",
       "count   100.000000  82.000000   90.000000    100.000000\n",
       "mean     50.500000  37.975610   14.766667  65066.760000\n",
       "std      29.011492   9.515388    6.889252  26189.874212\n",
       "min       1.000000  22.000000    0.000000  11830.000000\n",
       "25%      25.750000  27.250000    9.250000  48526.000000\n",
       "50%      50.500000  42.000000   16.500000  73500.500000\n",
       "75%      75.250000  45.750000   21.000000  86621.250000\n",
       "max     100.000000  50.000000   25.000000  98180.000000"
      ]
     },
     "execution_count": 9,
     "metadata": {},
     "output_type": "execute_result"
    }
   ],
   "source": [
    "data.describe()"
   ]
  },
  {
   "cell_type": "code",
   "execution_count": 10,
   "metadata": {},
   "outputs": [
    {
     "data": {
      "text/plain": [
       "Employee Id     0\n",
       "First Name      0\n",
       "Last Name       0\n",
       "Department     19\n",
       "Age            18\n",
       "Experience     10\n",
       "Salary          0\n",
       "dtype: int64"
      ]
     },
     "execution_count": 10,
     "metadata": {},
     "output_type": "execute_result"
    }
   ],
   "source": [
    "# checking the missing data \n",
    "data.isnull().sum()"
   ]
  },
  {
   "cell_type": "code",
   "execution_count": 11,
   "metadata": {},
   "outputs": [
    {
     "data": {
      "text/plain": [
       "Index(['Employee Id', 'First Name', 'Last Name', 'Department', 'Age',\n",
       "       'Experience', 'Salary'],\n",
       "      dtype='object')"
      ]
     },
     "execution_count": 11,
     "metadata": {},
     "output_type": "execute_result"
    }
   ],
   "source": [
    "data.columns"
   ]
  },
  {
   "cell_type": "code",
   "execution_count": 16,
   "metadata": {},
   "outputs": [
    {
     "data": {
      "text/plain": [
       "Department\n",
       "Sales and Marketing    30\n",
       "Accounting             27\n",
       "Customer Relations     24\n",
       "Name: count, dtype: int64"
      ]
     },
     "execution_count": 16,
     "metadata": {},
     "output_type": "execute_result"
    }
   ],
   "source": [
    "data['Department'].value_counts()"
   ]
  },
  {
   "cell_type": "markdown",
   "metadata": {},
   "source": [
    "Handling the missing data "
   ]
  },
  {
   "cell_type": "code",
   "execution_count": 17,
   "metadata": {},
   "outputs": [],
   "source": [
    "data['Department']= data['Department'].fillna('Sales and Marketing')"
   ]
  },
  {
   "cell_type": "code",
   "execution_count": 18,
   "metadata": {},
   "outputs": [
    {
     "data": {
      "text/plain": [
       "Department\n",
       "Sales and Marketing    49\n",
       "Accounting             27\n",
       "Customer Relations     24\n",
       "Name: count, dtype: int64"
      ]
     },
     "execution_count": 18,
     "metadata": {},
     "output_type": "execute_result"
    }
   ],
   "source": [
    "data['Department'].value_counts()"
   ]
  },
  {
   "cell_type": "code",
   "execution_count": 21,
   "metadata": {},
   "outputs": [
    {
     "data": {
      "text/plain": [
       "Employee Id     0\n",
       "First Name      0\n",
       "Last Name       0\n",
       "Department      0\n",
       "Age            18\n",
       "Experience     10\n",
       "Salary          0\n",
       "dtype: int64"
      ]
     },
     "execution_count": 21,
     "metadata": {},
     "output_type": "execute_result"
    }
   ],
   "source": [
    "data.isnull().sum()"
   ]
  },
  {
   "cell_type": "markdown",
   "metadata": {},
   "source": [
    "Age & Experiance having also missing data, before imputing Age & Experiance column we have to first check the outliers exist or not, if any outliers present in the dataset, we have to go with median techineque, if there is no outliers, then we have to go either mean of median"
   ]
  },
  {
   "cell_type": "code",
   "execution_count": 19,
   "metadata": {},
   "outputs": [
    {
     "data": {
      "image/png": "[encoded data removed]",
      "text/plain": [
       "<Figure size 640x480 with 1 Axes>"
      ]
     },
     "metadata": {},
     "output_type": "display_data"
    }
   ],
   "source": [
    "sns.boxplot(y='Age', data = data)\n",
    "plt.show()"
   ]
  },
  {
   "cell_type": "code",
   "execution_count": 20,
   "metadata": {},
   "outputs": [
    {
     "data": {
      "image/png": "[encoded data removed]",
      "text/plain": [
       "<Figure size 640x480 with 1 Axes>"
      ]
     },
     "metadata": {},
     "output_type": "display_data"
    }
   ],
   "source": [
    "sns.boxplot(y='Experience', data = data)\n",
    "plt.show()"
   ]
  },
  {
   "cell_type": "markdown",
   "metadata": {},
   "source": [
    "We can use def function as well to find out outliers "
   ]
  },
  {
   "cell_type": "code",
   "execution_count": 25,
   "metadata": {},
   "outputs": [
    {
     "data": {
      "image/png": "[encoded data removed]",
      "text/plain": [
       "<Figure size 640x480 with 1 Axes>"
      ]
     },
     "metadata": {},
     "output_type": "display_data"
    },
    {
     "data": {
      "image/png": "[encoded data removed]",
      "text/plain": [
       "<Figure size 640x480 with 1 Axes>"
      ]
     },
     "metadata": {},
     "output_type": "display_data"
    },
    {
     "data": {
      "image/png": "[encoded data removed]",
      "text/plain": [
       "<Figure size 640x480 with 1 Axes>"
      ]
     },
     "metadata": {},
     "output_type": "display_data"
    }
   ],
   "source": [
    "def boxplot(col):\n",
    "    sns.boxplot(data[col])\n",
    "    plt.show()\n",
    "\n",
    "for i in list(data.select_dtypes(exclude=[object]).columns)[1:]:\n",
    "    boxplot(i)\n",
    "\n",
    "\n",
    "\n",
    "    "
   ]
  },
  {
   "cell_type": "markdown",
   "metadata": {},
   "source": [
    "Since there is no outliers, we can go with mean or median."
   ]
  },
  {
   "cell_type": "code",
   "execution_count": 26,
   "metadata": {},
   "outputs": [],
   "source": [
    "data['Age']= data['Age'].fillna(data['Age'].mean())"
   ]
  },
  {
   "cell_type": "code",
   "execution_count": 27,
   "metadata": {},
   "outputs": [],
   "source": [
    "data['Experience']= data['Experience'].fillna(data['Experience'].mean())"
   ]
  },
  {
   "cell_type": "code",
   "execution_count": 28,
   "metadata": {},
   "outputs": [
    {
     "data": {
      "text/plain": [
       "Employee Id    0\n",
       "First Name     0\n",
       "Last Name      0\n",
       "Department     0\n",
       "Age            0\n",
       "Experience     0\n",
       "Salary         0\n",
       "dtype: int64"
      ]
     },
     "execution_count": 28,
     "metadata": {},
     "output_type": "execute_result"
    }
   ],
   "source": [
    "data.isnull().sum()"
   ]
  },
  {
   "cell_type": "markdown",
   "metadata": {},
   "source": [
    "WE can also impute the missing value using sklearn package."
   ]
  },
  {
   "cell_type": "code",
   "execution_count": 29,
   "metadata": {},
   "outputs": [
    {
     "data": {
      "text/html": [
       "<div>\n",
       "<style scoped>\n",
       "    .dataframe tbody tr th:only-of-type {\n",
       "        vertical-align: middle;\n",
       "    }\n",
       "\n",
       "    .dataframe tbody tr th {\n",
       "        vertical-align: top;\n",
       "    }\n",
       "\n",
       "    .dataframe thead th {\n",
       "        text-align: right;\n",
       "    }\n",
       "</style>\n",
       "<table border=\"1\" class=\"dataframe\">\n",
       "  <thead>\n",
       "    <tr style=\"text-align: right;\">\n",
       "      <th></th>\n",
       "      <th>Employee Id</th>\n",
       "      <th>First Name</th>\n",
       "      <th>Last Name</th>\n",
       "      <th>Department</th>\n",
       "      <th>Age</th>\n",
       "      <th>Experience</th>\n",
       "      <th>Salary</th>\n",
       "    </tr>\n",
       "  </thead>\n",
       "  <tbody>\n",
       "    <tr>\n",
       "      <th>0</th>\n",
       "      <td>1</td>\n",
       "      <td>Joy</td>\n",
       "      <td>Bass</td>\n",
       "      <td>Sales and Marketing</td>\n",
       "      <td>28.0</td>\n",
       "      <td>3.0</td>\n",
       "      <td>32889</td>\n",
       "    </tr>\n",
       "    <tr>\n",
       "      <th>1</th>\n",
       "      <td>2</td>\n",
       "      <td>Sheila</td>\n",
       "      <td>Garza</td>\n",
       "      <td>Sales and Marketing</td>\n",
       "      <td>22.0</td>\n",
       "      <td>1.0</td>\n",
       "      <td>15944</td>\n",
       "    </tr>\n",
       "    <tr>\n",
       "      <th>2</th>\n",
       "      <td>3</td>\n",
       "      <td>John</td>\n",
       "      <td>Bryant</td>\n",
       "      <td>Customer Relations</td>\n",
       "      <td>22.0</td>\n",
       "      <td>1.0</td>\n",
       "      <td>40343</td>\n",
       "    </tr>\n",
       "    <tr>\n",
       "      <th>3</th>\n",
       "      <td>4</td>\n",
       "      <td>Christian</td>\n",
       "      <td>Farley</td>\n",
       "      <td>Customer Relations</td>\n",
       "      <td>22.0</td>\n",
       "      <td>1.0</td>\n",
       "      <td>19018</td>\n",
       "    </tr>\n",
       "    <tr>\n",
       "      <th>4</th>\n",
       "      <td>5</td>\n",
       "      <td>Colorado</td>\n",
       "      <td>Bowen</td>\n",
       "      <td>Accounting</td>\n",
       "      <td>27.0</td>\n",
       "      <td>0.0</td>\n",
       "      <td>24795</td>\n",
       "    </tr>\n",
       "  </tbody>\n",
       "</table>\n",
       "</div>"
      ],
      "text/plain": [
       "   Employee Id First Name Last Name           Department   Age  Experience  \\\n",
       "0            1        Joy      Bass  Sales and Marketing  28.0         3.0   \n",
       "1            2     Sheila     Garza  Sales and Marketing  22.0         1.0   \n",
       "2            3       John    Bryant   Customer Relations  22.0         1.0   \n",
       "3            4  Christian    Farley   Customer Relations  22.0         1.0   \n",
       "4            5   Colorado     Bowen           Accounting  27.0         0.0   \n",
       "\n",
       "   Salary  \n",
       "0   32889  \n",
       "1   15944  \n",
       "2   40343  \n",
       "3   19018  \n",
       "4   24795  "
      ]
     },
     "execution_count": 29,
     "metadata": {},
     "output_type": "execute_result"
    }
   ],
   "source": [
    "mydata.head()"
   ]
  },
  {
   "cell_type": "code",
   "execution_count": 30,
   "metadata": {},
   "outputs": [
    {
     "data": {
      "text/plain": [
       "Employee Id     0\n",
       "First Name      0\n",
       "Last Name       0\n",
       "Department     19\n",
       "Age            18\n",
       "Experience     10\n",
       "Salary          0\n",
       "dtype: int64"
      ]
     },
     "execution_count": 30,
     "metadata": {},
     "output_type": "execute_result"
    }
   ],
   "source": [
    "mydata.isnull().sum()"
   ]
  },
  {
   "cell_type": "code",
   "execution_count": 31,
   "metadata": {},
   "outputs": [],
   "source": [
    "mydata1 = mydata.copy()"
   ]
  },
  {
   "cell_type": "code",
   "execution_count": 32,
   "metadata": {},
   "outputs": [
    {
     "data": {
      "text/html": [
       "<div>\n",
       "<style scoped>\n",
       "    .dataframe tbody tr th:only-of-type {\n",
       "        vertical-align: middle;\n",
       "    }\n",
       "\n",
       "    .dataframe tbody tr th {\n",
       "        vertical-align: top;\n",
       "    }\n",
       "\n",
       "    .dataframe thead th {\n",
       "        text-align: right;\n",
       "    }\n",
       "</style>\n",
       "<table border=\"1\" class=\"dataframe\">\n",
       "  <thead>\n",
       "    <tr style=\"text-align: right;\">\n",
       "      <th></th>\n",
       "      <th>Employee Id</th>\n",
       "      <th>First Name</th>\n",
       "      <th>Last Name</th>\n",
       "      <th>Department</th>\n",
       "      <th>Age</th>\n",
       "      <th>Experience</th>\n",
       "      <th>Salary</th>\n",
       "    </tr>\n",
       "  </thead>\n",
       "  <tbody>\n",
       "    <tr>\n",
       "      <th>0</th>\n",
       "      <td>1</td>\n",
       "      <td>Joy</td>\n",
       "      <td>Bass</td>\n",
       "      <td>Sales and Marketing</td>\n",
       "      <td>28.0</td>\n",
       "      <td>3.0</td>\n",
       "      <td>32889</td>\n",
       "    </tr>\n",
       "    <tr>\n",
       "      <th>1</th>\n",
       "      <td>2</td>\n",
       "      <td>Sheila</td>\n",
       "      <td>Garza</td>\n",
       "      <td>Sales and Marketing</td>\n",
       "      <td>22.0</td>\n",
       "      <td>1.0</td>\n",
       "      <td>15944</td>\n",
       "    </tr>\n",
       "    <tr>\n",
       "      <th>2</th>\n",
       "      <td>3</td>\n",
       "      <td>John</td>\n",
       "      <td>Bryant</td>\n",
       "      <td>Customer Relations</td>\n",
       "      <td>22.0</td>\n",
       "      <td>1.0</td>\n",
       "      <td>40343</td>\n",
       "    </tr>\n",
       "    <tr>\n",
       "      <th>3</th>\n",
       "      <td>4</td>\n",
       "      <td>Christian</td>\n",
       "      <td>Farley</td>\n",
       "      <td>Customer Relations</td>\n",
       "      <td>22.0</td>\n",
       "      <td>1.0</td>\n",
       "      <td>19018</td>\n",
       "    </tr>\n",
       "    <tr>\n",
       "      <th>4</th>\n",
       "      <td>5</td>\n",
       "      <td>Colorado</td>\n",
       "      <td>Bowen</td>\n",
       "      <td>Accounting</td>\n",
       "      <td>27.0</td>\n",
       "      <td>0.0</td>\n",
       "      <td>24795</td>\n",
       "    </tr>\n",
       "  </tbody>\n",
       "</table>\n",
       "</div>"
      ],
      "text/plain": [
       "   Employee Id First Name Last Name           Department   Age  Experience  \\\n",
       "0            1        Joy      Bass  Sales and Marketing  28.0         3.0   \n",
       "1            2     Sheila     Garza  Sales and Marketing  22.0         1.0   \n",
       "2            3       John    Bryant   Customer Relations  22.0         1.0   \n",
       "3            4  Christian    Farley   Customer Relations  22.0         1.0   \n",
       "4            5   Colorado     Bowen           Accounting  27.0         0.0   \n",
       "\n",
       "   Salary  \n",
       "0   32889  \n",
       "1   15944  \n",
       "2   40343  \n",
       "3   19018  \n",
       "4   24795  "
      ]
     },
     "execution_count": 32,
     "metadata": {},
     "output_type": "execute_result"
    }
   ],
   "source": [
    "mydata1.head()"
   ]
  },
  {
   "cell_type": "code",
   "execution_count": 33,
   "metadata": {},
   "outputs": [
    {
     "data": {
      "text/html": [
       "<div>\n",
       "<style scoped>\n",
       "    .dataframe tbody tr th:only-of-type {\n",
       "        vertical-align: middle;\n",
       "    }\n",
       "\n",
       "    .dataframe tbody tr th {\n",
       "        vertical-align: top;\n",
       "    }\n",
       "\n",
       "    .dataframe thead th {\n",
       "        text-align: right;\n",
       "    }\n",
       "</style>\n",
       "<table border=\"1\" class=\"dataframe\">\n",
       "  <thead>\n",
       "    <tr style=\"text-align: right;\">\n",
       "      <th></th>\n",
       "      <th>Employee Id</th>\n",
       "      <th>First Name</th>\n",
       "      <th>Last Name</th>\n",
       "      <th>Department</th>\n",
       "      <th>Age</th>\n",
       "      <th>Experience</th>\n",
       "      <th>Salary</th>\n",
       "    </tr>\n",
       "  </thead>\n",
       "  <tbody>\n",
       "    <tr>\n",
       "      <th>0</th>\n",
       "      <td>1</td>\n",
       "      <td>Joy</td>\n",
       "      <td>Bass</td>\n",
       "      <td>Sales and Marketing</td>\n",
       "      <td>28.0</td>\n",
       "      <td>3.0</td>\n",
       "      <td>32889</td>\n",
       "    </tr>\n",
       "    <tr>\n",
       "      <th>1</th>\n",
       "      <td>2</td>\n",
       "      <td>Sheila</td>\n",
       "      <td>Garza</td>\n",
       "      <td>Sales and Marketing</td>\n",
       "      <td>22.0</td>\n",
       "      <td>1.0</td>\n",
       "      <td>15944</td>\n",
       "    </tr>\n",
       "    <tr>\n",
       "      <th>2</th>\n",
       "      <td>3</td>\n",
       "      <td>John</td>\n",
       "      <td>Bryant</td>\n",
       "      <td>Customer Relations</td>\n",
       "      <td>22.0</td>\n",
       "      <td>1.0</td>\n",
       "      <td>40343</td>\n",
       "    </tr>\n",
       "    <tr>\n",
       "      <th>3</th>\n",
       "      <td>4</td>\n",
       "      <td>Christian</td>\n",
       "      <td>Farley</td>\n",
       "      <td>Customer Relations</td>\n",
       "      <td>22.0</td>\n",
       "      <td>1.0</td>\n",
       "      <td>19018</td>\n",
       "    </tr>\n",
       "    <tr>\n",
       "      <th>4</th>\n",
       "      <td>5</td>\n",
       "      <td>Colorado</td>\n",
       "      <td>Bowen</td>\n",
       "      <td>Accounting</td>\n",
       "      <td>27.0</td>\n",
       "      <td>0.0</td>\n",
       "      <td>24795</td>\n",
       "    </tr>\n",
       "  </tbody>\n",
       "</table>\n",
       "</div>"
      ],
      "text/plain": [
       "   Employee Id First Name Last Name           Department   Age  Experience  \\\n",
       "0            1        Joy      Bass  Sales and Marketing  28.0         3.0   \n",
       "1            2     Sheila     Garza  Sales and Marketing  22.0         1.0   \n",
       "2            3       John    Bryant   Customer Relations  22.0         1.0   \n",
       "3            4  Christian    Farley   Customer Relations  22.0         1.0   \n",
       "4            5   Colorado     Bowen           Accounting  27.0         0.0   \n",
       "\n",
       "   Salary  \n",
       "0   32889  \n",
       "1   15944  \n",
       "2   40343  \n",
       "3   19018  \n",
       "4   24795  "
      ]
     },
     "execution_count": 33,
     "metadata": {},
     "output_type": "execute_result"
    }
   ],
   "source": [
    "mydata.head()"
   ]
  },
  {
   "cell_type": "code",
   "execution_count": 34,
   "metadata": {},
   "outputs": [],
   "source": [
    "mydata = mydata.iloc[:,4:]"
   ]
  },
  {
   "cell_type": "code",
   "execution_count": 35,
   "metadata": {},
   "outputs": [
    {
     "data": {
      "text/html": [
       "<div>\n",
       "<style scoped>\n",
       "    .dataframe tbody tr th:only-of-type {\n",
       "        vertical-align: middle;\n",
       "    }\n",
       "\n",
       "    .dataframe tbody tr th {\n",
       "        vertical-align: top;\n",
       "    }\n",
       "\n",
       "    .dataframe thead th {\n",
       "        text-align: right;\n",
       "    }\n",
       "</style>\n",
       "<table border=\"1\" class=\"dataframe\">\n",
       "  <thead>\n",
       "    <tr style=\"text-align: right;\">\n",
       "      <th></th>\n",
       "      <th>Age</th>\n",
       "      <th>Experience</th>\n",
       "      <th>Salary</th>\n",
       "    </tr>\n",
       "  </thead>\n",
       "  <tbody>\n",
       "    <tr>\n",
       "      <th>0</th>\n",
       "      <td>28.0</td>\n",
       "      <td>3.0</td>\n",
       "      <td>32889</td>\n",
       "    </tr>\n",
       "    <tr>\n",
       "      <th>1</th>\n",
       "      <td>22.0</td>\n",
       "      <td>1.0</td>\n",
       "      <td>15944</td>\n",
       "    </tr>\n",
       "    <tr>\n",
       "      <th>2</th>\n",
       "      <td>22.0</td>\n",
       "      <td>1.0</td>\n",
       "      <td>40343</td>\n",
       "    </tr>\n",
       "    <tr>\n",
       "      <th>3</th>\n",
       "      <td>22.0</td>\n",
       "      <td>1.0</td>\n",
       "      <td>19018</td>\n",
       "    </tr>\n",
       "    <tr>\n",
       "      <th>4</th>\n",
       "      <td>27.0</td>\n",
       "      <td>0.0</td>\n",
       "      <td>24795</td>\n",
       "    </tr>\n",
       "  </tbody>\n",
       "</table>\n",
       "</div>"
      ],
      "text/plain": [
       "    Age  Experience  Salary\n",
       "0  28.0         3.0   32889\n",
       "1  22.0         1.0   15944\n",
       "2  22.0         1.0   40343\n",
       "3  22.0         1.0   19018\n",
       "4  27.0         0.0   24795"
      ]
     },
     "execution_count": 35,
     "metadata": {},
     "output_type": "execute_result"
    }
   ],
   "source": [
    "mydata.head()"
   ]
  },
  {
   "cell_type": "code",
   "execution_count": 36,
   "metadata": {},
   "outputs": [
    {
     "data": {
      "text/plain": [
       "Age           18\n",
       "Experience    10\n",
       "Salary         0\n",
       "dtype: int64"
      ]
     },
     "execution_count": 36,
     "metadata": {},
     "output_type": "execute_result"
    }
   ],
   "source": [
    "mydata.isnull().sum()"
   ]
  },
  {
   "cell_type": "code",
   "execution_count": 37,
   "metadata": {},
   "outputs": [],
   "source": [
    "from sklearn.impute import SimpleImputer\n",
    "simple_impute = SimpleImputer(missing_values=np.nan, strategy= 'mean')\n",
    "mydata = simple_impute.fit_transform(mydata)\n",
    "\n"
   ]
  },
  {
   "cell_type": "code",
   "execution_count": 39,
   "metadata": {},
   "outputs": [
    {
     "data": {
      "text/plain": [
       "array([[2.80000000e+01, 3.00000000e+00, 3.28890000e+04],\n",
       "       [2.20000000e+01, 1.00000000e+00, 1.59440000e+04],\n",
       "       [2.20000000e+01, 1.00000000e+00, 4.03430000e+04],\n",
       "       [2.20000000e+01, 1.00000000e+00, 1.90180000e+04],\n",
       "       [2.70000000e+01, 0.00000000e+00, 2.47950000e+04],\n",
       "       [2.60000000e+01, 5.00000000e+00, 1.53870000e+04],\n",
       "       [2.40000000e+01, 6.00000000e+00, 3.41170000e+04],\n",
       "       [2.90000000e+01, 2.00000000e+00, 1.60990000e+04],\n",
       "       [2.90000000e+01, 5.00000000e+00, 4.21050000e+04],\n",
       "       [3.00000000e+01, 6.00000000e+00, 1.18910000e+04],\n",
       "       [2.60000000e+01, 5.00000000e+00, 3.46870000e+04],\n",
       "       [2.60000000e+01, 6.00000000e+00, 2.35490000e+04],\n",
       "       [2.40000000e+01, 5.00000000e+00, 2.91100000e+04],\n",
       "       [2.20000000e+01, 2.00000000e+00, 3.34350000e+04],\n",
       "       [2.50000000e+01, 3.00000000e+00, 1.18300000e+04],\n",
       "       [2.50000000e+01, 1.47666667e+01, 4.40650000e+04],\n",
       "       [2.20000000e+01, 1.47666667e+01, 1.32660000e+04],\n",
       "       [2.50000000e+01, 1.47666667e+01, 1.66310000e+04],\n",
       "       [2.70000000e+01, 1.47666667e+01, 2.98860000e+04],\n",
       "       [2.50000000e+01, 1.47666667e+01, 3.04640000e+04],\n",
       "       [2.20000000e+01, 1.47666667e+01, 1.49430000e+04],\n",
       "       [2.20000000e+01, 1.47666667e+01, 1.86320000e+04],\n",
       "       [2.40000000e+01, 1.47666667e+01, 3.81830000e+04],\n",
       "       [2.70000000e+01, 1.47666667e+01, 4.30930000e+04],\n",
       "       [2.20000000e+01, 1.47666667e+01, 2.65730000e+04],\n",
       "       [3.30000000e+01, 1.30000000e+01, 5.12280000e+04],\n",
       "       [3.60000000e+01, 7.00000000e+00, 5.79020000e+04],\n",
       "       [3.50000000e+01, 1.00000000e+01, 5.42330000e+04],\n",
       "       [3.30000000e+01, 1.20000000e+01, 7.00100000e+04],\n",
       "       [3.00000000e+01, 1.40000000e+01, 7.46830000e+04],\n",
       "       [4.00000000e+01, 1.50000000e+01, 5.38670000e+04],\n",
       "       [3.90000000e+01, 1.20000000e+01, 6.01170000e+04],\n",
       "       [3.79756098e+01, 9.00000000e+00, 7.20550000e+04],\n",
       "       [3.79756098e+01, 7.00000000e+00, 5.00130000e+04],\n",
       "       [3.79756098e+01, 1.50000000e+01, 5.01180000e+04],\n",
       "       [3.79756098e+01, 1.10000000e+01, 7.23180000e+04],\n",
       "       [3.79756098e+01, 1.00000000e+01, 5.38280000e+04],\n",
       "       [3.79756098e+01, 7.00000000e+00, 5.83620000e+04],\n",
       "       [3.79756098e+01, 1.30000000e+01, 6.33910000e+04],\n",
       "       [3.79756098e+01, 9.00000000e+00, 6.29830000e+04],\n",
       "       [3.79756098e+01, 8.00000000e+00, 6.59390000e+04],\n",
       "       [3.79756098e+01, 1.20000000e+01, 5.17150000e+04],\n",
       "       [3.79756098e+01, 9.00000000e+00, 5.42500000e+04],\n",
       "       [3.79756098e+01, 1.20000000e+01, 5.04620000e+04],\n",
       "       [3.79756098e+01, 1.50000000e+01, 6.44180000e+04],\n",
       "       [3.79756098e+01, 1.40000000e+01, 6.01640000e+04],\n",
       "       [3.79756098e+01, 1.00000000e+01, 6.65280000e+04],\n",
       "       [3.79756098e+01, 8.00000000e+00, 5.72780000e+04],\n",
       "       [3.79756098e+01, 1.20000000e+01, 7.16070000e+04],\n",
       "       [3.79756098e+01, 1.50000000e+01, 6.12220000e+04],\n",
       "       [3.80000000e+01, 1.40000000e+01, 6.83880000e+04],\n",
       "       [4.10000000e+01, 2.50000000e+01, 9.47040000e+04],\n",
       "       [4.40000000e+01, 1.70000000e+01, 8.94930000e+04],\n",
       "       [4.10000000e+01, 1.70000000e+01, 9.43100000e+04],\n",
       "       [5.00000000e+01, 2.10000000e+01, 8.16150000e+04],\n",
       "       [4.70000000e+01, 1.90000000e+01, 8.43060000e+04],\n",
       "       [4.30000000e+01, 2.50000000e+01, 7.74520000e+04],\n",
       "       [4.80000000e+01, 2.50000000e+01, 7.69040000e+04],\n",
       "       [4.60000000e+01, 2.20000000e+01, 9.07980000e+04],\n",
       "       [4.40000000e+01, 1.60000000e+01, 8.62610000e+04],\n",
       "       [4.20000000e+01, 2.10000000e+01, 7.83320000e+04],\n",
       "       [4.40000000e+01, 1.90000000e+01, 8.48810000e+04],\n",
       "       [4.90000000e+01, 1.60000000e+01, 7.65280000e+04],\n",
       "       [4.40000000e+01, 1.80000000e+01, 8.35240000e+04],\n",
       "       [4.90000000e+01, 2.20000000e+01, 8.92580000e+04],\n",
       "       [4.40000000e+01, 1.70000000e+01, 7.54310000e+04],\n",
       "       [4.80000000e+01, 1.60000000e+01, 9.18700000e+04],\n",
       "       [4.70000000e+01, 2.30000000e+01, 7.67080000e+04],\n",
       "       [5.00000000e+01, 2.20000000e+01, 9.52220000e+04],\n",
       "       [4.20000000e+01, 1.90000000e+01, 9.08020000e+04],\n",
       "       [4.80000000e+01, 1.90000000e+01, 8.62770000e+04],\n",
       "       [4.60000000e+01, 2.40000000e+01, 7.73300000e+04],\n",
       "       [4.20000000e+01, 2.30000000e+01, 8.52860000e+04],\n",
       "       [4.50000000e+01, 2.20000000e+01, 9.09300000e+04],\n",
       "       [4.80000000e+01, 1.70000000e+01, 8.88330000e+04],\n",
       "       [4.10000000e+01, 2.30000000e+01, 9.59080000e+04],\n",
       "       [4.90000000e+01, 1.90000000e+01, 9.23650000e+04],\n",
       "       [4.10000000e+01, 2.20000000e+01, 9.38540000e+04],\n",
       "       [4.20000000e+01, 2.40000000e+01, 8.53360000e+04],\n",
       "       [4.10000000e+01, 2.20000000e+01, 7.98980000e+04],\n",
       "       [4.50000000e+01, 2.10000000e+01, 8.47080000e+04],\n",
       "       [4.30000000e+01, 1.60000000e+01, 8.83810000e+04],\n",
       "       [4.60000000e+01, 1.80000000e+01, 9.32060000e+04],\n",
       "       [4.70000000e+01, 2.00000000e+01, 9.17950000e+04],\n",
       "       [4.50000000e+01, 1.70000000e+01, 9.64320000e+04],\n",
       "       [4.20000000e+01, 1.70000000e+01, 8.33000000e+04],\n",
       "       [4.40000000e+01, 2.10000000e+01, 9.47780000e+04],\n",
       "       [4.50000000e+01, 1.90000000e+01, 8.22830000e+04],\n",
       "       [4.40000000e+01, 2.10000000e+01, 9.70560000e+04],\n",
       "       [4.70000000e+01, 2.00000000e+01, 8.76540000e+04],\n",
       "       [4.40000000e+01, 1.90000000e+01, 8.98750000e+04],\n",
       "       [4.40000000e+01, 1.80000000e+01, 9.81800000e+04],\n",
       "       [4.10000000e+01, 1.70000000e+01, 8.41850000e+04],\n",
       "       [4.80000000e+01, 2.10000000e+01, 7.95090000e+04],\n",
       "       [4.80000000e+01, 2.20000000e+01, 9.79900000e+04],\n",
       "       [4.70000000e+01, 2.20000000e+01, 7.90770000e+04],\n",
       "       [4.60000000e+01, 2.00000000e+01, 8.11870000e+04],\n",
       "       [4.40000000e+01, 1.80000000e+01, 8.38470000e+04],\n",
       "       [4.70000000e+01, 2.20000000e+01, 8.91580000e+04],\n",
       "       [4.40000000e+01, 2.10000000e+01, 9.16450000e+04]])"
      ]
     },
     "execution_count": 39,
     "metadata": {},
     "output_type": "execute_result"
    }
   ],
   "source": [
    "mydata"
   ]
  },
  {
   "cell_type": "code",
   "execution_count": 40,
   "metadata": {},
   "outputs": [
    {
     "data": {
      "text/plain": [
       "0    0\n",
       "1    0\n",
       "2    0\n",
       "dtype: int64"
      ]
     },
     "execution_count": 40,
     "metadata": {},
     "output_type": "execute_result"
    }
   ],
   "source": [
    "pd.DataFrame(mydata).isnull().sum()"
   ]
  },
  {
   "cell_type": "markdown",
   "metadata": {},
   "source": [
    "Feature scaling method.\n",
    "1. lebel encoding\n",
    "2. One Hot encoding\n"
   ]
  },
  {
   "cell_type": "code",
   "execution_count": 41,
   "metadata": {},
   "outputs": [
    {
     "data": {
      "text/html": [
       "<div>\n",
       "<style scoped>\n",
       "    .dataframe tbody tr th:only-of-type {\n",
       "        vertical-align: middle;\n",
       "    }\n",
       "\n",
       "    .dataframe tbody tr th {\n",
       "        vertical-align: top;\n",
       "    }\n",
       "\n",
       "    .dataframe thead th {\n",
       "        text-align: right;\n",
       "    }\n",
       "</style>\n",
       "<table border=\"1\" class=\"dataframe\">\n",
       "  <thead>\n",
       "    <tr style=\"text-align: right;\">\n",
       "      <th></th>\n",
       "      <th>Employee Id</th>\n",
       "      <th>First Name</th>\n",
       "      <th>Last Name</th>\n",
       "      <th>Department</th>\n",
       "      <th>Age</th>\n",
       "      <th>Experience</th>\n",
       "      <th>Salary</th>\n",
       "    </tr>\n",
       "  </thead>\n",
       "  <tbody>\n",
       "    <tr>\n",
       "      <th>0</th>\n",
       "      <td>1</td>\n",
       "      <td>Joy</td>\n",
       "      <td>Bass</td>\n",
       "      <td>Sales and Marketing</td>\n",
       "      <td>28.0</td>\n",
       "      <td>3.0</td>\n",
       "      <td>32889</td>\n",
       "    </tr>\n",
       "    <tr>\n",
       "      <th>1</th>\n",
       "      <td>2</td>\n",
       "      <td>Sheila</td>\n",
       "      <td>Garza</td>\n",
       "      <td>Sales and Marketing</td>\n",
       "      <td>22.0</td>\n",
       "      <td>1.0</td>\n",
       "      <td>15944</td>\n",
       "    </tr>\n",
       "    <tr>\n",
       "      <th>2</th>\n",
       "      <td>3</td>\n",
       "      <td>John</td>\n",
       "      <td>Bryant</td>\n",
       "      <td>Customer Relations</td>\n",
       "      <td>22.0</td>\n",
       "      <td>1.0</td>\n",
       "      <td>40343</td>\n",
       "    </tr>\n",
       "    <tr>\n",
       "      <th>3</th>\n",
       "      <td>4</td>\n",
       "      <td>Christian</td>\n",
       "      <td>Farley</td>\n",
       "      <td>Customer Relations</td>\n",
       "      <td>22.0</td>\n",
       "      <td>1.0</td>\n",
       "      <td>19018</td>\n",
       "    </tr>\n",
       "    <tr>\n",
       "      <th>4</th>\n",
       "      <td>5</td>\n",
       "      <td>Colorado</td>\n",
       "      <td>Bowen</td>\n",
       "      <td>Accounting</td>\n",
       "      <td>27.0</td>\n",
       "      <td>0.0</td>\n",
       "      <td>24795</td>\n",
       "    </tr>\n",
       "  </tbody>\n",
       "</table>\n",
       "</div>"
      ],
      "text/plain": [
       "   Employee Id First Name Last Name           Department   Age  Experience  \\\n",
       "0            1        Joy      Bass  Sales and Marketing  28.0         3.0   \n",
       "1            2     Sheila     Garza  Sales and Marketing  22.0         1.0   \n",
       "2            3       John    Bryant   Customer Relations  22.0         1.0   \n",
       "3            4  Christian    Farley   Customer Relations  22.0         1.0   \n",
       "4            5   Colorado     Bowen           Accounting  27.0         0.0   \n",
       "\n",
       "   Salary  \n",
       "0   32889  \n",
       "1   15944  \n",
       "2   40343  \n",
       "3   19018  \n",
       "4   24795  "
      ]
     },
     "execution_count": 41,
     "metadata": {},
     "output_type": "execute_result"
    }
   ],
   "source": [
    "# Lebel encoding\n",
    "\n",
    "data.head()"
   ]
  },
  {
   "cell_type": "code",
   "execution_count": 42,
   "metadata": {},
   "outputs": [],
   "source": [
    "data['Department']= data['Department'].astype('category')\n",
    "data['Department']= data['Department'].cat.codes\n"
   ]
  },
  {
   "cell_type": "code",
   "execution_count": 45,
   "metadata": {},
   "outputs": [
    {
     "data": {
      "text/html": [
       "<div>\n",
       "<style scoped>\n",
       "    .dataframe tbody tr th:only-of-type {\n",
       "        vertical-align: middle;\n",
       "    }\n",
       "\n",
       "    .dataframe tbody tr th {\n",
       "        vertical-align: top;\n",
       "    }\n",
       "\n",
       "    .dataframe thead th {\n",
       "        text-align: right;\n",
       "    }\n",
       "</style>\n",
       "<table border=\"1\" class=\"dataframe\">\n",
       "  <thead>\n",
       "    <tr style=\"text-align: right;\">\n",
       "      <th></th>\n",
       "      <th>Employee Id</th>\n",
       "      <th>First Name</th>\n",
       "      <th>Last Name</th>\n",
       "      <th>Department</th>\n",
       "      <th>Age</th>\n",
       "      <th>Experience</th>\n",
       "      <th>Salary</th>\n",
       "    </tr>\n",
       "  </thead>\n",
       "  <tbody>\n",
       "    <tr>\n",
       "      <th>0</th>\n",
       "      <td>1</td>\n",
       "      <td>Joy</td>\n",
       "      <td>Bass</td>\n",
       "      <td>2</td>\n",
       "      <td>28.0</td>\n",
       "      <td>3.0</td>\n",
       "      <td>32889</td>\n",
       "    </tr>\n",
       "    <tr>\n",
       "      <th>1</th>\n",
       "      <td>2</td>\n",
       "      <td>Sheila</td>\n",
       "      <td>Garza</td>\n",
       "      <td>2</td>\n",
       "      <td>22.0</td>\n",
       "      <td>1.0</td>\n",
       "      <td>15944</td>\n",
       "    </tr>\n",
       "    <tr>\n",
       "      <th>2</th>\n",
       "      <td>3</td>\n",
       "      <td>John</td>\n",
       "      <td>Bryant</td>\n",
       "      <td>1</td>\n",
       "      <td>22.0</td>\n",
       "      <td>1.0</td>\n",
       "      <td>40343</td>\n",
       "    </tr>\n",
       "    <tr>\n",
       "      <th>3</th>\n",
       "      <td>4</td>\n",
       "      <td>Christian</td>\n",
       "      <td>Farley</td>\n",
       "      <td>1</td>\n",
       "      <td>22.0</td>\n",
       "      <td>1.0</td>\n",
       "      <td>19018</td>\n",
       "    </tr>\n",
       "    <tr>\n",
       "      <th>4</th>\n",
       "      <td>5</td>\n",
       "      <td>Colorado</td>\n",
       "      <td>Bowen</td>\n",
       "      <td>0</td>\n",
       "      <td>27.0</td>\n",
       "      <td>0.0</td>\n",
       "      <td>24795</td>\n",
       "    </tr>\n",
       "    <tr>\n",
       "      <th>5</th>\n",
       "      <td>6</td>\n",
       "      <td>Elijah</td>\n",
       "      <td>Matthews</td>\n",
       "      <td>0</td>\n",
       "      <td>26.0</td>\n",
       "      <td>5.0</td>\n",
       "      <td>15387</td>\n",
       "    </tr>\n",
       "    <tr>\n",
       "      <th>6</th>\n",
       "      <td>7</td>\n",
       "      <td>Bo</td>\n",
       "      <td>Mcleod</td>\n",
       "      <td>1</td>\n",
       "      <td>24.0</td>\n",
       "      <td>6.0</td>\n",
       "      <td>34117</td>\n",
       "    </tr>\n",
       "    <tr>\n",
       "      <th>7</th>\n",
       "      <td>8</td>\n",
       "      <td>Zena</td>\n",
       "      <td>Melendez</td>\n",
       "      <td>1</td>\n",
       "      <td>29.0</td>\n",
       "      <td>2.0</td>\n",
       "      <td>16099</td>\n",
       "    </tr>\n",
       "    <tr>\n",
       "      <th>8</th>\n",
       "      <td>9</td>\n",
       "      <td>Tucker</td>\n",
       "      <td>Michael</td>\n",
       "      <td>2</td>\n",
       "      <td>29.0</td>\n",
       "      <td>5.0</td>\n",
       "      <td>42105</td>\n",
       "    </tr>\n",
       "    <tr>\n",
       "      <th>9</th>\n",
       "      <td>10</td>\n",
       "      <td>Lucas</td>\n",
       "      <td>Rowe</td>\n",
       "      <td>1</td>\n",
       "      <td>30.0</td>\n",
       "      <td>6.0</td>\n",
       "      <td>11891</td>\n",
       "    </tr>\n",
       "  </tbody>\n",
       "</table>\n",
       "</div>"
      ],
      "text/plain": [
       "   Employee Id First Name Last Name  Department   Age  Experience  Salary\n",
       "0            1        Joy      Bass           2  28.0         3.0   32889\n",
       "1            2     Sheila     Garza           2  22.0         1.0   15944\n",
       "2            3       John    Bryant           1  22.0         1.0   40343\n",
       "3            4  Christian    Farley           1  22.0         1.0   19018\n",
       "4            5   Colorado     Bowen           0  27.0         0.0   24795\n",
       "5            6     Elijah  Matthews           0  26.0         5.0   15387\n",
       "6            7         Bo    Mcleod           1  24.0         6.0   34117\n",
       "7            8       Zena  Melendez           1  29.0         2.0   16099\n",
       "8            9     Tucker   Michael           2  29.0         5.0   42105\n",
       "9           10      Lucas      Rowe           1  30.0         6.0   11891"
      ]
     },
     "execution_count": 45,
     "metadata": {},
     "output_type": "execute_result"
    }
   ],
   "source": [
    "data.head(10)"
   ]
  },
  {
   "cell_type": "code",
   "execution_count": 46,
   "metadata": {},
   "outputs": [],
   "source": [
    "mydata2 = mydata1.copy()"
   ]
  },
  {
   "cell_type": "code",
   "execution_count": 47,
   "metadata": {},
   "outputs": [
    {
     "data": {
      "text/html": [
       "<div>\n",
       "<style scoped>\n",
       "    .dataframe tbody tr th:only-of-type {\n",
       "        vertical-align: middle;\n",
       "    }\n",
       "\n",
       "    .dataframe tbody tr th {\n",
       "        vertical-align: top;\n",
       "    }\n",
       "\n",
       "    .dataframe thead th {\n",
       "        text-align: right;\n",
       "    }\n",
       "</style>\n",
       "<table border=\"1\" class=\"dataframe\">\n",
       "  <thead>\n",
       "    <tr style=\"text-align: right;\">\n",
       "      <th></th>\n",
       "      <th>Employee Id</th>\n",
       "      <th>First Name</th>\n",
       "      <th>Last Name</th>\n",
       "      <th>Department</th>\n",
       "      <th>Age</th>\n",
       "      <th>Experience</th>\n",
       "      <th>Salary</th>\n",
       "    </tr>\n",
       "  </thead>\n",
       "  <tbody>\n",
       "    <tr>\n",
       "      <th>0</th>\n",
       "      <td>1</td>\n",
       "      <td>Joy</td>\n",
       "      <td>Bass</td>\n",
       "      <td>Sales and Marketing</td>\n",
       "      <td>28.0</td>\n",
       "      <td>3.0</td>\n",
       "      <td>32889</td>\n",
       "    </tr>\n",
       "    <tr>\n",
       "      <th>1</th>\n",
       "      <td>2</td>\n",
       "      <td>Sheila</td>\n",
       "      <td>Garza</td>\n",
       "      <td>Sales and Marketing</td>\n",
       "      <td>22.0</td>\n",
       "      <td>1.0</td>\n",
       "      <td>15944</td>\n",
       "    </tr>\n",
       "  </tbody>\n",
       "</table>\n",
       "</div>"
      ],
      "text/plain": [
       "   Employee Id First Name Last Name           Department   Age  Experience  \\\n",
       "0            1        Joy      Bass  Sales and Marketing  28.0         3.0   \n",
       "1            2     Sheila     Garza  Sales and Marketing  22.0         1.0   \n",
       "\n",
       "   Salary  \n",
       "0   32889  \n",
       "1   15944  "
      ]
     },
     "execution_count": 47,
     "metadata": {},
     "output_type": "execute_result"
    }
   ],
   "source": [
    "mydata2.head(2)"
   ]
  },
  {
   "cell_type": "code",
   "execution_count": 50,
   "metadata": {},
   "outputs": [],
   "source": [
    "# One Hot encoder process\n",
    "\n",
    "data = pd.get_dummies(data, columns=['Department'])"
   ]
  },
  {
   "cell_type": "code",
   "execution_count": 53,
   "metadata": {},
   "outputs": [
    {
     "data": {
      "text/html": [
       "<div>\n",
       "<style scoped>\n",
       "    .dataframe tbody tr th:only-of-type {\n",
       "        vertical-align: middle;\n",
       "    }\n",
       "\n",
       "    .dataframe tbody tr th {\n",
       "        vertical-align: top;\n",
       "    }\n",
       "\n",
       "    .dataframe thead th {\n",
       "        text-align: right;\n",
       "    }\n",
       "</style>\n",
       "<table border=\"1\" class=\"dataframe\">\n",
       "  <thead>\n",
       "    <tr style=\"text-align: right;\">\n",
       "      <th></th>\n",
       "      <th>Employee Id</th>\n",
       "      <th>First Name</th>\n",
       "      <th>Last Name</th>\n",
       "      <th>Age</th>\n",
       "      <th>Experience</th>\n",
       "      <th>Salary</th>\n",
       "      <th>Department_0</th>\n",
       "      <th>Department_1</th>\n",
       "      <th>Department_2</th>\n",
       "    </tr>\n",
       "  </thead>\n",
       "  <tbody>\n",
       "    <tr>\n",
       "      <th>0</th>\n",
       "      <td>1</td>\n",
       "      <td>Joy</td>\n",
       "      <td>Bass</td>\n",
       "      <td>28.0</td>\n",
       "      <td>3.0</td>\n",
       "      <td>32889</td>\n",
       "      <td>False</td>\n",
       "      <td>False</td>\n",
       "      <td>True</td>\n",
       "    </tr>\n",
       "    <tr>\n",
       "      <th>1</th>\n",
       "      <td>2</td>\n",
       "      <td>Sheila</td>\n",
       "      <td>Garza</td>\n",
       "      <td>22.0</td>\n",
       "      <td>1.0</td>\n",
       "      <td>15944</td>\n",
       "      <td>False</td>\n",
       "      <td>False</td>\n",
       "      <td>True</td>\n",
       "    </tr>\n",
       "    <tr>\n",
       "      <th>2</th>\n",
       "      <td>3</td>\n",
       "      <td>John</td>\n",
       "      <td>Bryant</td>\n",
       "      <td>22.0</td>\n",
       "      <td>1.0</td>\n",
       "      <td>40343</td>\n",
       "      <td>False</td>\n",
       "      <td>True</td>\n",
       "      <td>False</td>\n",
       "    </tr>\n",
       "    <tr>\n",
       "      <th>3</th>\n",
       "      <td>4</td>\n",
       "      <td>Christian</td>\n",
       "      <td>Farley</td>\n",
       "      <td>22.0</td>\n",
       "      <td>1.0</td>\n",
       "      <td>19018</td>\n",
       "      <td>False</td>\n",
       "      <td>True</td>\n",
       "      <td>False</td>\n",
       "    </tr>\n",
       "    <tr>\n",
       "      <th>4</th>\n",
       "      <td>5</td>\n",
       "      <td>Colorado</td>\n",
       "      <td>Bowen</td>\n",
       "      <td>27.0</td>\n",
       "      <td>0.0</td>\n",
       "      <td>24795</td>\n",
       "      <td>True</td>\n",
       "      <td>False</td>\n",
       "      <td>False</td>\n",
       "    </tr>\n",
       "    <tr>\n",
       "      <th>...</th>\n",
       "      <td>...</td>\n",
       "      <td>...</td>\n",
       "      <td>...</td>\n",
       "      <td>...</td>\n",
       "      <td>...</td>\n",
       "      <td>...</td>\n",
       "      <td>...</td>\n",
       "      <td>...</td>\n",
       "      <td>...</td>\n",
       "    </tr>\n",
       "    <tr>\n",
       "      <th>95</th>\n",
       "      <td>96</td>\n",
       "      <td>Tyrone</td>\n",
       "      <td>Barber</td>\n",
       "      <td>47.0</td>\n",
       "      <td>22.0</td>\n",
       "      <td>79077</td>\n",
       "      <td>False</td>\n",
       "      <td>False</td>\n",
       "      <td>True</td>\n",
       "    </tr>\n",
       "    <tr>\n",
       "      <th>96</th>\n",
       "      <td>97</td>\n",
       "      <td>Urielle</td>\n",
       "      <td>Herrera</td>\n",
       "      <td>46.0</td>\n",
       "      <td>20.0</td>\n",
       "      <td>81187</td>\n",
       "      <td>False</td>\n",
       "      <td>False</td>\n",
       "      <td>True</td>\n",
       "    </tr>\n",
       "    <tr>\n",
       "      <th>97</th>\n",
       "      <td>98</td>\n",
       "      <td>Brendan</td>\n",
       "      <td>Solis</td>\n",
       "      <td>44.0</td>\n",
       "      <td>18.0</td>\n",
       "      <td>83847</td>\n",
       "      <td>False</td>\n",
       "      <td>True</td>\n",
       "      <td>False</td>\n",
       "    </tr>\n",
       "    <tr>\n",
       "      <th>98</th>\n",
       "      <td>99</td>\n",
       "      <td>Holmes</td>\n",
       "      <td>Nelson</td>\n",
       "      <td>47.0</td>\n",
       "      <td>22.0</td>\n",
       "      <td>89158</td>\n",
       "      <td>False</td>\n",
       "      <td>True</td>\n",
       "      <td>False</td>\n",
       "    </tr>\n",
       "    <tr>\n",
       "      <th>99</th>\n",
       "      <td>100</td>\n",
       "      <td>Avye</td>\n",
       "      <td>Davidson</td>\n",
       "      <td>44.0</td>\n",
       "      <td>21.0</td>\n",
       "      <td>91645</td>\n",
       "      <td>True</td>\n",
       "      <td>False</td>\n",
       "      <td>False</td>\n",
       "    </tr>\n",
       "  </tbody>\n",
       "</table>\n",
       "<p>100 rows × 9 columns</p>\n",
       "</div>"
      ],
      "text/plain": [
       "    Employee Id First Name Last Name   Age  Experience  Salary  Department_0  \\\n",
       "0             1        Joy      Bass  28.0         3.0   32889         False   \n",
       "1             2     Sheila     Garza  22.0         1.0   15944         False   \n",
       "2             3       John    Bryant  22.0         1.0   40343         False   \n",
       "3             4  Christian    Farley  22.0         1.0   19018         False   \n",
       "4             5   Colorado     Bowen  27.0         0.0   24795          True   \n",
       "..          ...        ...       ...   ...         ...     ...           ...   \n",
       "95           96     Tyrone    Barber  47.0        22.0   79077         False   \n",
       "96           97    Urielle   Herrera  46.0        20.0   81187         False   \n",
       "97           98    Brendan     Solis  44.0        18.0   83847         False   \n",
       "98           99     Holmes    Nelson  47.0        22.0   89158         False   \n",
       "99          100       Avye  Davidson  44.0        21.0   91645          True   \n",
       "\n",
       "    Department_1  Department_2  \n",
       "0          False          True  \n",
       "1          False          True  \n",
       "2           True         False  \n",
       "3           True         False  \n",
       "4          False         False  \n",
       "..           ...           ...  \n",
       "95         False          True  \n",
       "96         False          True  \n",
       "97          True         False  \n",
       "98          True         False  \n",
       "99         False         False  \n",
       "\n",
       "[100 rows x 9 columns]"
      ]
     },
     "execution_count": 53,
     "metadata": {},
     "output_type": "execute_result"
    }
   ],
   "source": [
    "data"
   ]
  },
  {
   "cell_type": "code",
   "execution_count": null,
   "metadata": {},
   "outputs": [],
   "source": []
  }
 ],
 "metadata": {
  "kernelspec": {
   "display_name": "Python 3",
   "language": "python",
   "name": "python3"
  },
  "language_info": {
   "codemirror_mode": {
    "name": "ipython",
    "version": 3
   },
   "file_extension": ".py",
   "mimetype": "text/x-python",
   "name": "python",
   "nbconvert_exporter": "python",
   "pygments_lexer": "ipython3",
   "version": "3.8.0"
  }
 },
 "nbformat": 4,
 "nbformat_minor": 2
}
